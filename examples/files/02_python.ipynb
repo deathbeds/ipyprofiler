{
 "cells": [
  {
   "cell_type": "markdown",
   "id": "b82ac82a-e6d5-4f74-8be8-c5e5aa095be6",
   "metadata": {},
   "source": [
    "# Profiling Python\n",
    "\n",
    "Python (and `IPython`) provide built-in tools for profiling, enhanced for interactive computing by `IPython`', with a number of third-party tools like `pyinstrument` that refine and extend these tools. `ipyprofile` provides [`Pyinstrument`](#Pyinstrument), building on top of these tools."
   ]
  },
  {
   "cell_type": "code",
   "execution_count": null,
   "id": "cdb14242-2db0-4db0-8feb-7acbf46b9c2c",
   "metadata": {},
   "outputs": [],
   "source": [
    "import sys\n",
    "\n",
    "if __name__ == \"__main__\" and \"pyodide\" in sys.modules:\n",
    "    %pip install -r requirements.txt"
   ]
  },
  {
   "cell_type": "code",
   "execution_count": null,
   "id": "b46f67c7-2b7a-479b-bb3d-c664ca15395f",
   "metadata": {},
   "outputs": [],
   "source": [
    "def fib(n):\n",
    "    return n if n < 2 else fib(n - 1) + fib(n - 2)"
   ]
  },
  {
   "cell_type": "code",
   "execution_count": null,
   "id": "ae037748-0311-43e6-902a-73ee6a4740c3",
   "metadata": {},
   "outputs": [],
   "source": [
    "async def afib(n):\n",
    "    return n if n < 2 else await afib(n - 1) + await afib(n - 2)"
   ]
  },
  {
   "cell_type": "code",
   "execution_count": null,
   "id": "e19ee441-4bb4-4b12-a749-d81b51448029",
   "metadata": {},
   "outputs": [],
   "source": [
    "%%prun\n",
    "print(fib(10))"
   ]
  },
  {
   "cell_type": "markdown",
   "id": "8f329e3d-9ca4-4e1c-b87a-4c454ad94220",
   "metadata": {},
   "source": [
    "While strictly _accurate_, counting every call, the built-in profiler results can be hard to interpret. \n",
    "\n",
    "This magic also cannot handle \"top-level `await`\", increasingly seen even in interactive computing. "
   ]
  },
  {
   "cell_type": "markdown",
   "id": "eab89b16-34b6-4832-b981-d0f7f8ff4f74",
   "metadata": {},
   "source": [
    "> Uncommenting and running the following cell will fail"
   ]
  },
  {
   "cell_type": "code",
   "execution_count": null,
   "id": "3a5df559-9865-4b1a-806c-b1bff217bb8c",
   "metadata": {},
   "outputs": [],
   "source": [
    "# %%prun\n",
    "# await afib(10)"
   ]
  },
  {
   "cell_type": "markdown",
   "id": "55cd85b3-7eff-45c3-8abd-92531d6c06c3",
   "metadata": {},
   "source": [
    "## `pyinstrument`\n",
    "\n",
    "[`pyinstrument`](https://github.com/joerick/pyinstrument) is a _sampling_ profiler for Python, meaning it tries to capture a representative report, rather than an authoritative one. This can help tell the story of a larger trace, at the risk of hiding some details.\n",
    "\n",
    "It provides its own magic, providing an embedded HTML report."
   ]
  },
  {
   "cell_type": "code",
   "execution_count": null,
   "id": "5aa02c36-286a-4fcf-99eb-95ee1418414e",
   "metadata": {},
   "outputs": [],
   "source": [
    "%reload_ext pyinstrument"
   ]
  },
  {
   "cell_type": "code",
   "execution_count": null,
   "id": "9497f24b-0f5a-41ef-8d12-eda43ff80fcc",
   "metadata": {},
   "outputs": [],
   "source": [
    "%%pyinstrument?"
   ]
  },
  {
   "cell_type": "code",
   "execution_count": null,
   "id": "cabac77c-63a2-485d-a47d-fa4ec55160dd",
   "metadata": {},
   "outputs": [],
   "source": [
    "%%pyinstrument\n",
    "print(fib(20))"
   ]
  },
  {
   "cell_type": "markdown",
   "id": "a4d06b5d-66c9-4c53-b2d2-ce771c52d15b",
   "metadata": {},
   "source": [
    "`%%pyinstrument`, if configured, can handle the top-level `await` syntax.\n",
    "\n",
    "> _This example works in a regular `ipykernel` session, but not in `pyodide-kernel`, as it relies on threads_"
   ]
  },
  {
   "cell_type": "code",
   "execution_count": null,
   "id": "9fb67658-19a8-45aa-b04c-e9902c721e86",
   "metadata": {},
   "outputs": [],
   "source": [
    "# %%pyinstrument --async_mode=enabled\n",
    "# print(await afib(20))"
   ]
  },
  {
   "cell_type": "markdown",
   "id": "ba2dc53f-6bd3-417b-839f-fd64388db996",
   "metadata": {},
   "source": [
    "While `pyinstrument` provides additional insights, and has a detailed JSON format, and _also_ provides support for `speedscope` JSON, allowing it to to be used directly with the `Flamegraph` widget."
   ]
  },
  {
   "cell_type": "markdown",
   "id": "95e23606-fa59-4f22-9231-a38e3e1091b3",
   "metadata": {},
   "source": [
    "## `Pyinstrument`\n",
    "\n",
    "`Pyinstrument` is an opinionated wrapper around `pyinstrument`, optimized for interactive profiling."
   ]
  },
  {
   "cell_type": "markdown",
   "id": "c6ad2d8b-393d-477e-ac46-8b74ced7a4a6",
   "metadata": {},
   "source": [
    "### Basic Example\n",
    "\n",
    "For simplicity, the `Pyinstrument` examples below use the naive Fibonacci sequence (`fib`) and its asynchronous counterpart (`afib`), defined above."
   ]
  },
  {
   "cell_type": "markdown",
   "id": "5d01a27e-6998-4da8-9a7b-6ead2cb8b735",
   "metadata": {},
   "source": [
    "The `Pyinstrument` widget provides no default UI: it offers both a `.flame_graph` and `.call_graph`, as well as the `.tabs()` method which displays both."
   ]
  },
  {
   "cell_type": "code",
   "execution_count": null,
   "id": "c7058084-9710-4d6c-9110-a38567e75d50",
   "metadata": {},
   "outputs": [],
   "source": [
    "from ipyprofiler.widget_pyinstrument import Pyinstrument\n",
    "\n",
    "ps = Pyinstrument()\n",
    "ps.tabs(layout={\"min_height\": \"60vh\"})"
   ]
  },
  {
   "cell_type": "markdown",
   "id": "5fea7a91-eb35-433e-8dda-344d685745bf",
   "metadata": {},
   "source": [
    "Like `pyinstrument`, it offers a context manager, which helps ensure profilers are properly cleaned up."
   ]
  },
  {
   "cell_type": "code",
   "execution_count": null,
   "id": "5b643d0f-8724-4042-92c8-8c63bfadd89d",
   "metadata": {},
   "outputs": [],
   "source": [
    "with ps.profile(\"fib\"):\n",
    "    fib(15)"
   ]
  },
  {
   "cell_type": "markdown",
   "id": "cedae0ac-7d44-4438-b4b8-1ce6d688b0d4",
   "metadata": {},
   "source": [
    "Using `.profile` again will update the existing output."
   ]
  },
  {
   "cell_type": "code",
   "execution_count": null,
   "id": "d03c8691-17ec-4ba9-8999-fd9ee828d551",
   "metadata": {},
   "outputs": [],
   "source": [
    "with ps.profile(\"fib, but 20\"):\n",
    "    fib(20)"
   ]
  },
  {
   "cell_type": "markdown",
   "id": "c9b2e4ed-ef61-4cf5-8e3e-bc91f975bc61",
   "metadata": {},
   "source": [
    "### Additional Options"
   ]
  },
  {
   "cell_type": "markdown",
   "id": "95db9b9c-6aa4-4e19-8918-2f4afc95d7a5",
   "metadata": {},
   "source": [
    "`Pyinstrument` and `.profile` expose a few additional options:"
   ]
  },
  {
   "cell_type": "code",
   "execution_count": null,
   "id": "7ef879aa-21c6-4410-a7ed-dc3695cd1fbc",
   "metadata": {},
   "outputs": [],
   "source": [
    "ps.profile?"
   ]
  },
  {
   "cell_type": "markdown",
   "id": "097a55e0-89e5-4148-aba9-81fbe74c8f6b",
   "metadata": {},
   "source": [
    "### Opinions"
   ]
  },
  {
   "cell_type": "markdown",
   "id": "5996714d-5e29-42ee-8a8a-e7970a1d2daa",
   "metadata": {},
   "source": [
    "A number of strings are rewritten to make results more tractable:\n",
    "- the current working directory is replaced with `./`\n",
    "- the long, auto-generated file/profile names are replaced"
   ]
  },
  {
   "cell_type": "markdown",
   "id": "326d8b31-919e-4767-9bb7-304549546a25",
   "metadata": {},
   "source": [
    "### Asynchronous Code"
   ]
  },
  {
   "cell_type": "markdown",
   "id": "a02cca3f-3f8b-4ee1-9dd8-c92feb703c3f",
   "metadata": {},
   "source": [
    "As non-magic code is already correctly mangled by IPython, no additional flags are needed to profile `async` code."
   ]
  },
  {
   "cell_type": "code",
   "execution_count": null,
   "id": "5adb9edd-145e-4206-8884-70932c1d3de5",
   "metadata": {},
   "outputs": [],
   "source": [
    "aps = Pyinstrument(name=\"asynchronous fibonacci\")\n",
    "with aps.profile():\n",
    "    await afib(20)\n",
    "aps.tabs()"
   ]
  },
  {
   "cell_type": "markdown",
   "id": "885a97d0-7b3d-4517-a2b3-ae5eab2017ca",
   "metadata": {},
   "source": [
    "### Multiple Cells\n",
    "\n",
    "Profiling a single block of code with the `.profile` context manager will usually show the most useful output, but setting the `.profiling` member directly is possible. This will show the mechanics of `IPython` and `ipykernel` along with the code of interest."
   ]
  },
  {
   "cell_type": "code",
   "execution_count": null,
   "id": "22d60d2d-06d9-4f22-8896-7fc6aaeba2f4",
   "metadata": {},
   "outputs": [],
   "source": [
    "mps = Pyinstrument(\n",
    "    name=\"multiple cells\",\n",
    "    processor_options={\"hide_regex\": r\".*\"},\n",
    ")\n",
    "mps.profiling = True"
   ]
  },
  {
   "cell_type": "code",
   "execution_count": null,
   "id": "7c4da4b6-8642-4254-b99c-8f7e0ed0be2c",
   "metadata": {},
   "outputs": [],
   "source": [
    "fib(20)"
   ]
  },
  {
   "cell_type": "code",
   "execution_count": null,
   "id": "810c5015-070b-489c-8000-7f9b76b6160d",
   "metadata": {},
   "outputs": [],
   "source": [
    "await afib(20)"
   ]
  },
  {
   "cell_type": "code",
   "execution_count": null,
   "id": "2c70f931-b764-44ac-9321-80ade278f683",
   "metadata": {},
   "outputs": [],
   "source": [
    "mps.profiling = False\n",
    "mps.tabs()"
   ]
  },
  {
   "cell_type": "code",
   "execution_count": null,
   "id": "93a1feca-2d0e-4858-ac22-d899c3a8b2df",
   "metadata": {},
   "outputs": [],
   "source": [
    "with mps.callgraph.hold_sync():\n",
    "    mps.callgraph.use_elk = mps.callgraph.group_by_file = 1\n",
    "    mps.callgraph.show_time = 0\n",
    "    mps.callgraph.direction = \"top_to_bottom\""
   ]
  },
  {
   "cell_type": "markdown",
   "id": "171c3198-648c-4c55-be20-b3fc97fd3c1d",
   "metadata": {},
   "source": [
    "> ## More Demos\n",
    ">\n",
    "> [⬅️ Flamegraph](01_flamegraph.ipynb) | [⬆️ back to index](00_index.ipynb)"
   ]
  }
 ],
 "metadata": {
  "kernelspec": {
   "display_name": "Python 3 (ipykernel)",
   "language": "python",
   "name": "python3"
  },
  "language_info": {
   "codemirror_mode": {
    "name": "ipython",
    "version": 3
   },
   "file_extension": ".py",
   "mimetype": "text/x-python",
   "name": "python",
   "nbconvert_exporter": "python",
   "pygments_lexer": "ipython3",
   "version": "3.12.4"
  }
 },
 "nbformat": 4,
 "nbformat_minor": 5
}
