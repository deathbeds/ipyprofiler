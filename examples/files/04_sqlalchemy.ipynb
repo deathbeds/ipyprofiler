{
 "cells": [
  {
   "cell_type": "markdown",
   "id": "2b1f78e8-2812-41f2-96ed-4c034142631d",
   "metadata": {},
   "source": [
    "# Profiling for Understanding\n",
    "\n",
    "Profiling provides a complementary approach to step-through debugging for discovering what a seemingly (or not so) simple piece of code does. \n",
    "\n",
    "This example walks through the [SQLAlchemy ORM Quick Start](https://docs.sqlalchemy.org/en/20/orm/quickstart.html) to creating, populating, and querying a database with a domain model."
   ]
  },
  {
   "cell_type": "code",
   "execution_count": null,
   "id": "10273bf9-9c77-4ef8-aee4-8d72bd358232",
   "metadata": {},
   "outputs": [],
   "source": [
    "from __future__ import annotations\n",
    "\n",
    "import sys\n",
    "\n",
    "if __name__ == \"__main__\" and \"pyodide\" in sys.modules:\n",
    "    %pip install -r requirements.txt"
   ]
  },
  {
   "cell_type": "markdown",
   "id": "33e83b0e-748f-4e6b-8865-a954400123d4",
   "metadata": {},
   "source": [
    "## Demoing\n",
    "\n",
    "Using the excellent [ipylab](https://github.com/jtpio/ipylab), this example will use a single `Pyinstrument` attached to the left side of the document with the 🔭 icon. "
   ]
  },
  {
   "cell_type": "code",
   "execution_count": null,
   "id": "cc09d042-4dea-4809-965f-47577f98ce85",
   "metadata": {},
   "outputs": [],
   "source": [
    "import pprint\n",
    "\n",
    "from ipylab import Icon, JupyterFrontEnd, Panel\n",
    "\n",
    "from ipyprofiler import Pyinstrument"
   ]
  },
  {
   "cell_type": "code",
   "execution_count": null,
   "id": "15889439-e625-44c9-8189-291e2e8fa117",
   "metadata": {},
   "outputs": [],
   "source": [
    "ps = Pyinstrument(interval=0.001)"
   ]
  },
  {
   "cell_type": "code",
   "execution_count": null,
   "id": "98a71f12-4bba-4708-8ed7-ad38a5387437",
   "metadata": {},
   "outputs": [],
   "source": [
    "app = JupyterFrontEnd()\n",
    "panel = locals()[\"panel\"]\n",
    "if panel:\n",
    "    panel.close()\n",
    "panel = Panel([ps.tabs(layout={\"min_height\": \"60vh\"})])\n",
    "svgstr = (\n",
    "    \"\"\"<svg xmlns=\"http://www.w3.org/2000/svg\" viewBox=\"0 0 24 24\">\"\"\"\n",
    "    \"\"\"<text x=\"4\" y=\"18\">🔭</text>\"\"\"\n",
    "    \"\"\"</svg>\"\"\"\n",
    ")\n",
    "panel.title.icon = Icon(name=\"ipyprofiler\", svgstr=svgstr)\n",
    "app.shell.add(panel, \"right\")\n",
    "app.shell.expand_right()"
   ]
  },
  {
   "cell_type": "markdown",
   "id": "12538b81-9046-4660-b024-207b5edf66ad",
   "metadata": {},
   "source": [
    "## Importing\n",
    "\n",
    "While `sqlalchemy` has few dependencies, it does a lot of work up-front. Note that re-running this cell will show an empty profile, as everything will already be loaded and cached."
   ]
  },
  {
   "cell_type": "code",
   "execution_count": null,
   "id": "1101695d-7a9c-49eb-b66f-89c27a8792bd",
   "metadata": {},
   "outputs": [],
   "source": [
    "with ps.profile(\"importing\"):\n",
    "    from sqlalchemy import ForeignKey, String, create_engine, select\n",
    "    from sqlalchemy.orm import (\n",
    "        DeclarativeBase,\n",
    "        Mapped,\n",
    "        Session,\n",
    "        mapped_column,\n",
    "        relationship,\n",
    "    )"
   ]
  },
  {
   "cell_type": "markdown",
   "id": "9ecafe75-bbe4-476f-b635-d6cb6833534c",
   "metadata": {},
   "source": [
    "## Modeling\n",
    "\n",
    "Declaring a model is actually fairly involved, as modern `sqlalchemy` relies heavily on type annotations."
   ]
  },
  {
   "cell_type": "code",
   "execution_count": null,
   "id": "1d9e9933-4bbb-4dcf-9b3b-ca1f0ddc59c8",
   "metadata": {},
   "outputs": [],
   "source": [
    "with ps.profile(\"building a model\"):\n",
    "\n",
    "    class Base(DeclarativeBase):\n",
    "        pass\n",
    "\n",
    "    class User(Base):\n",
    "        __tablename__ = \"user_account\"\n",
    "        id: Mapped[int] = mapped_column(primary_key=True)\n",
    "        name: Mapped[str] = mapped_column(String(30))\n",
    "        fullname: Mapped[str | None]\n",
    "        addresses: Mapped[list[Address]] = relationship(\n",
    "            back_populates=\"user\", cascade=\"all, delete-orphan\"\n",
    "        )\n",
    "\n",
    "        def __repr__(self) -> str:\n",
    "            return (\n",
    "                f\"User(id={self.id!r}, name={self.name!r}, fullname={self.fullname!r})\"\n",
    "            )\n",
    "\n",
    "    class Address(Base):\n",
    "        __tablename__ = \"address\"\n",
    "        id: Mapped[int] = mapped_column(primary_key=True)\n",
    "        email_address: Mapped[str]\n",
    "        user_id: Mapped[int] = mapped_column(ForeignKey(\"user_account.id\"))\n",
    "        user: Mapped[User] = relationship(back_populates=\"addresses\")\n",
    "\n",
    "        def __repr__(self) -> str:\n",
    "            return f\"Address(id={self.id!r}, email_address={self.email_address!r})\""
   ]
  },
  {
   "cell_type": "markdown",
   "id": "09af1b2b-0866-4bf1-a12c-cfb53bb8e682",
   "metadata": {},
   "source": [
    "## Initializing\n",
    "\n",
    "Using an in-memory `sqlite` database, we can see how much work goes into building a fresh database."
   ]
  },
  {
   "cell_type": "code",
   "execution_count": null,
   "id": "a76569cd-4299-41b0-bf61-6803a64c74db",
   "metadata": {},
   "outputs": [],
   "source": [
    "with ps.profile(\"start your engine\"):\n",
    "    engine = create_engine(\"sqlite://\")\n",
    "    Base.metadata.create_all(engine)"
   ]
  },
  {
   "cell_type": "markdown",
   "id": "6c46cb49-efc3-46e8-b018-377c00818546",
   "metadata": {},
   "source": [
    "## Building\n",
    "\n",
    "Adding some instances shows the cost of executing that model."
   ]
  },
  {
   "cell_type": "code",
   "execution_count": null,
   "id": "7673897f-742c-4e90-984e-0fe128ded456",
   "metadata": {},
   "outputs": [],
   "source": [
    "with ps.profile(\"build some instances\"):\n",
    "    spongebob = User(\n",
    "        name=\"spongebob\",\n",
    "        fullname=\"Spongebob Squarepants\",\n",
    "        addresses=[Address(email_address=\"spongebob@sqlalchemy.org\")],\n",
    "    )\n",
    "    sandy = User(\n",
    "        name=\"sandy\",\n",
    "        fullname=\"Sandy Cheeks\",\n",
    "        addresses=[\n",
    "            Address(email_address=\"sandy@sqlalchemy.org\"),\n",
    "            Address(email_address=\"sandy@squirrelpower.org\"),\n",
    "        ],\n",
    "    )\n",
    "    patrick = User(name=\"patrick\", fullname=\"Patrick Star\")"
   ]
  },
  {
   "cell_type": "markdown",
   "id": "2d627a79-eb47-429b-953d-f427bc9dcaf1",
   "metadata": {},
   "source": [
    "## Saving\n",
    "\n",
    "Having prepared all the work above, actually adding the instances is still a fair amount of work."
   ]
  },
  {
   "cell_type": "code",
   "execution_count": null,
   "id": "929baa61-2b28-472f-a2aa-4a0e5284219a",
   "metadata": {},
   "outputs": [],
   "source": [
    "with ps.profile(\"save instances\"), Session(engine) as session:\n",
    "    session.add_all([spongebob, sandy, patrick])\n",
    "    session.commit()"
   ]
  },
  {
   "attachments": {},
   "cell_type": "markdown",
   "id": "80f973c7-11ab-428f-a585-c946f86bd1c5",
   "metadata": {},
   "source": [
    "## Querying\n",
    "\n",
    "With the data in the database, we can now see what goes into querying for some instances."
   ]
  },
  {
   "cell_type": "code",
   "execution_count": null,
   "id": "99fc2811-9a4b-4d72-9e1d-465b118bf6ec",
   "metadata": {},
   "outputs": [],
   "source": [
    "with ps.profile(\"query instances\"), Session(engine) as session:\n",
    "    result = session.execute(select(User).order_by(User.id))\n",
    "    pprint.pprint(result.all())"
   ]
  }
 ],
 "metadata": {
  "kernelspec": {
   "display_name": "Python 3 (ipykernel)",
   "language": "python",
   "name": "python3"
  },
  "language_info": {
   "codemirror_mode": {
    "name": "ipython",
    "version": 3
   },
   "file_extension": ".py",
   "mimetype": "text/x-python",
   "name": "python",
   "nbconvert_exporter": "python",
   "pygments_lexer": "ipython3",
   "version": "3.12.4"
  }
 },
 "nbformat": 4,
 "nbformat_minor": 5
}
